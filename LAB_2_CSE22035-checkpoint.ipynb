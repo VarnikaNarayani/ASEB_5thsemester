{
 "cells": [
  {
   "cell_type": "code",
   "execution_count": 115,
   "id": "0b60aebd-d65f-4320-82c2-02d6157b634a",
   "metadata": {},
   "outputs": [
    {
     "name": "stdout",
     "output_type": "stream",
     "text": [
      "Initial_Dataframe:\n",
      "  Customer  Candies (#)  Mangoes (Kg)  Milk Packets (#)  Payment (Rs)  \\\n",
      "0      C_1           20             6                 2           386   \n",
      "1      C_2           16             3                 6           289   \n",
      "2      C_3           27             6                 2           393   \n",
      "3      C_4           19             1                 2           110   \n",
      "4      C_5           24             4                 2           280   \n",
      "\n",
      "   Unnamed: 5  Unnamed: 6  Unnamed: 7  Unnamed: 8  Unnamed: 9  ...  \\\n",
      "0         NaN         NaN         NaN         NaN         NaN  ...   \n",
      "1         NaN         NaN         NaN         NaN         NaN  ...   \n",
      "2         NaN         NaN         NaN         NaN         NaN  ...   \n",
      "3         NaN         NaN         NaN         NaN         NaN  ...   \n",
      "4         NaN         NaN         NaN         NaN         NaN  ...   \n",
      "\n",
      "   Unnamed: 12  Unnamed: 13  Unnamed: 14  Unnamed: 15  Unnamed: 16  \\\n",
      "0          NaN          NaN          NaN          NaN          NaN   \n",
      "1          NaN          NaN          NaN          NaN          NaN   \n",
      "2          NaN          NaN          NaN          NaN          NaN   \n",
      "3          NaN          NaN          NaN          NaN          NaN   \n",
      "4          NaN          NaN          NaN          NaN          NaN   \n",
      "\n",
      "   Unnamed: 17  Unnamed: 18  Candy  Mango  Milk  \n",
      "0          NaN          NaN    1.0   55.0  18.0  \n",
      "1          NaN          NaN    NaN    NaN   NaN  \n",
      "2          NaN          NaN    NaN    NaN   NaN  \n",
      "3          NaN          NaN    NaN    NaN   NaN  \n",
      "4          NaN          NaN    NaN    NaN   NaN  \n",
      "\n",
      "[5 rows x 22 columns]\n",
      "Cleaned_Data_frame:\n",
      "   Candies (#)  Mangoes (Kg)  Milk Packets (#)  Payment (Rs)\n",
      "0           20             6                 2           386\n",
      "1           16             3                 6           289\n",
      "2           27             6                 2           393\n",
      "3           19             1                 2           110\n",
      "4           24             4                 2           280\n",
      "Dimensionality of the vector space: 3\n",
      "Number of vectors in the vector space: 10\n",
      "Rank of Matrix A: 3\n",
      "Product_costs: [ 1. 55. 18.]\n"
     ]
    }
   ],
   "source": [
    "import pandas as pd\n",
    "import numpy as np\n",
    "\n",
    "file_path = r\"C:\\Users\\varnika reddy\\Downloads\\Lab Session Data.xlsx\"\n",
    "df = pd.read_excel(file_path, sheet_name='Purchase data')\n",
    "print(\"Initial_Dataframe:\")\n",
    "print(df.head())\n",
    "\n",
    "df_cleaned = df[['Candies (#)', 'Mangoes (Kg)', 'Milk Packets (#)', 'Payment (Rs)']].dropna()\n",
    "\n",
    "print(\"Cleaned_Data_frame:\")\n",
    "print(df_cleaned.head())\n",
    "\n",
    "A = df_cleaned.iloc[:, :-1].values  \n",
    "C = df_cleaned.iloc[:, -1].values   \n",
    "\n",
    "A = A.astype(np.float64)\n",
    "C = C.astype(np.float64)\n",
    "\n",
    "dimensionality = A.shape[1]\n",
    "\n",
    "num_vectors = A.shape[0]\n",
    "\n",
    "rank_A = np.linalg.matrix_rank(A)\n",
    "\n",
    "A_pseudo_inverse = np.linalg.pinv(A)\n",
    "\n",
    "product_costs = np.dot(A_pseudo_inverse, C)\n",
    "\n",
    "print(f\"Dimensionality of the vector space: {dimensionality}\")\n",
    "print(f\"Number of vectors in the vector space: {num_vectors}\")\n",
    "print(f\"Rank of Matrix A: {rank_A}\")\n",
    "print(f\"Product_costs: {product_costs}\")"
   ]
  },
  {
   "cell_type": "code",
   "execution_count": 109,
   "id": "583ca94f-6c1a-40e8-8343-d05cd54bc593",
   "metadata": {},
   "outputs": [
    {
     "name": "stdout",
     "output_type": "stream",
     "text": [
      "Product costs: [ 1. 55. 18.]\n"
     ]
    }
   ],
   "source": [
    "import pandas as pd\n",
    "import numpy as np\n",
    "\n",
    "file_path = r\"C:\\Users\\varnika reddy\\Downloads\\Lab Session Data.xlsx\"\n",
    "df = pd.read_excel(file_path, sheet_name='Purchase data')\n",
    "\n",
    "df_cleaned = df[['Candies (#)', 'Mangoes (Kg)', 'Milk Packets (#)', 'Payment (Rs)']].dropna()\n",
    "\n",
    "A = df_cleaned.iloc[:, :-1].values  \n",
    "C = df_cleaned.iloc[:, -1].values   \n",
    "\n",
    "A = A.astype(np.float64)\n",
    "C = C.astype(np.float64)\n",
    "\n",
    "A_pseudo_inverse = np.linalg.pinv(A)\n",
    "\n",
    "product_costs = np.dot(A_pseudo_inverse, C)\n",
    "\n",
    "print(\"Product costs:\", product_costs)"
   ]
  },
  {
   "cell_type": "code",
   "execution_count": 117,
   "id": "47909a0c-559a-461f-8f01-03e212688fb3",
   "metadata": {},
   "outputs": [
    {
     "name": "stdout",
     "output_type": "stream",
     "text": [
      "Classification_Report:\n",
      "              precision    recall  f1-score   support\n",
      "\n",
      "        POOR       0.67      1.00      0.80         2\n",
      "        RICH       1.00      0.00      0.00         1\n",
      "\n",
      "    accuracy                           0.67         3\n",
      "   macro avg       0.83      0.50      0.40         3\n",
      "weighted avg       0.78      0.67      0.53         3\n",
      "\n",
      "Class distribution(training set):\n",
      "1    5\n",
      "0    2\n",
      "Name: count, dtype: int64\n",
      "Class distribution(test set):\n",
      "0    2\n",
      "1    1\n",
      "Name: count, dtype: int64\n"
     ]
    }
   ],
   "source": [
    "import pandas as pd\n",
    "import numpy as np\n",
    "from sklearn.model_selection import train_test_split\n",
    "from sklearn.preprocessing import LabelEncoder\n",
    "from sklearn.linear_model import LogisticRegression\n",
    "from sklearn.metrics import classification_report\n",
    "\n",
    "file_path = r\"C:\\Users\\varnika reddy\\Downloads\\Lab Session Data.xlsx\"\n",
    "df = pd.read_excel(file_path, sheet_name='Purchase data')\n",
    "\n",
    "df['Customer Type'] = np.where(df['Payment (Rs)'] > 200, 'RICH', 'POOR')\n",
    "\n",
    "X = df[['Candies (#)', 'Mangoes (Kg)', 'Milk Packets (#)']].fillna(0) \n",
    "y = df['Customer Type']\n",
    "\n",
    "le = LabelEncoder()\n",
    "y_encoded = le.fit_transform(y)\n",
    "\n",
    "X_train, X_test, y_train, y_test = train_test_split(X, y_encoded, test_size=0.3, random_state=42)\n",
    "\n",
    "model = LogisticRegression(max_iter=1000, class_weight='balanced')  \n",
    "model.fit(X_train, y_train)\n",
    "\n",
    "y_pred = model.predict(X_test)\n",
    "\n",
    "print(\"Classification_Report:\")\n",
    "print(classification_report(y_test, y_pred, target_names=le.classes_, zero_division=1))\n",
    "\n",
    "print(\"Class distribution(training set):\")\n",
    "print(pd.Series(y_train).value_counts())\n",
    "\n",
    "print(\"Class distribution(test set):\")\n",
    "print(pd.Series(y_test).value_counts())"
   ]
  },
  {
   "cell_type": "code",
   "execution_count": null,
   "id": "d2b1f2c8-fb9b-4e49-8ffd-74c8c66b7034",
   "metadata": {},
   "outputs": [],
   "source": []
  }
 ],
 "metadata": {
  "kernelspec": {
   "display_name": "Python 3 (ipykernel)",
   "language": "python",
   "name": "python3"
  },
  "language_info": {
   "codemirror_mode": {
    "name": "ipython",
    "version": 3
   },
   "file_extension": ".py",
   "mimetype": "text/x-python",
   "name": "python",
   "nbconvert_exporter": "python",
   "pygments_lexer": "ipython3",
   "version": "3.12.4"
  }
 },
 "nbformat": 4,
 "nbformat_minor": 5
}
