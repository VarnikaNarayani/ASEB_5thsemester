{
 "cells": [
  {
   "cell_type": "code",
   "execution_count": 13,
   "id": "870980e1-f0ab-4942-94fd-177d5b57723f",
   "metadata": {},
   "outputs": [
    {
     "name": "stdout",
     "output_type": "stream",
     "text": [
      "2\n"
     ]
    }
   ],
   "source": [
    "import numpy as np\n",
    "def find_pair_count(nums, target):\n",
    "    count_map = {}\n",
    "    pair_count = 0\n",
    "     \n",
    "    for num in nums:\n",
    "        complement = target - num\n",
    "        if complement in count_map:\n",
    "            pair_count += count_map[complement]\n",
    "        count_map[num] = count_map.get(num, 0) + 1\n",
    "   \n",
    "    return pair_count\n",
    "numbers = [2, 7, 4, 1, 3, 6]\n",
    "target_sum = 10\n",
    "print(find_pair_count(numbers, target_sum))"
   ]
  },
  {
   "cell_type": "code",
   "execution_count": 17,
   "id": "adb121c8-651e-488f-b2b9-d329ab90f6be",
   "metadata": {},
   "outputs": [
    {
     "name": "stdin",
     "output_type": "stream",
     "text": [
      "Please provide a series of numbers separated by spaces:  3 4 5 6 76 56\n"
     ]
    },
    {
     "name": "stdout",
     "output_type": "stream",
     "text": [
      "The computed range is: 73.00\n"
     ]
    }
   ],
   "source": [
    "def compute_range(values):\n",
    "    if len(values) < 2:\n",
    "        return \"Not enough data to compute range.\"\n",
    "   \n",
    "    array_values = np.array(values)\n",
    "    range_span = np.ptp(array_values)\n",
    "    return range_span\n",
    "if __name__ == \"__main__\":\n",
    "    user_input = input(\"Please provide a series of numbers separated by spaces: \").strip()\n",
    "   \n",
    "    if not user_input:\n",
    "        print(\"Input is empty. No numbers provided.\")\n",
    "    else:\n",
    "        number_list = list(map(float, user_input.split()))\n",
    "        range_value = compute_range(number_list)\n",
    "       \n",
    "        if isinstance(range_value, str):\n",
    "            print(range_value)\n",
    "        else:\n",
    "            print(f\"The computed range is: {range_value:.2f}\")\n"
   ]
  },
  {
   "cell_type": "code",
   "execution_count": 19,
   "id": "370049c5-8af8-47b4-ab89-258506ea65ec",
   "metadata": {},
   "outputs": [
    {
     "name": "stdin",
     "output_type": "stream",
     "text": [
      "Please enter a square matrix (rows separated by semicolons, values by commas):  23,35,56;21,67,43;76,78,43\n",
      "Specify the exponent to raise the matrix to:  3\n"
     ]
    },
    {
     "name": "stdout",
     "output_type": "stream",
     "text": [
      "Matrix raised to the power of 3:\n",
      "[[ 680114 1102584  856037]\n",
      " [ 747628 1215924  911660]\n",
      " [1107966 1723772 1262681]]\n"
     ]
    }
   ],
   "source": [
    "def power_of_matrix(matrix, power):\n",
    "    \"\"\"Raise a square matrix to the specified power.\"\"\"\n",
    "    if not isinstance(matrix, np.ndarray):\n",
    "        matrix = np.array(matrix)\n",
    "   \n",
    "    if matrix.shape[0] != matrix.shape[1]:\n",
    "        raise ValueError(\"The matrix needs to be square.\")\n",
    "    return np.linalg.matrix_power(matrix, power)\n",
    "\n",
    "if __name__ == \"__main__\":\n",
    "    matrix_input = input(\"Please enter a square matrix (rows separated by semicolons, values by commas): \").strip()\n",
    "    power = int(input(\"Specify the exponent to raise the matrix to: \").strip())\n",
    "\n",
    "    rows = matrix_input.split(';')\n",
    "    matrix = [list(map(int, row.split(','))) for row in rows]\n",
    "    if len(matrix) != len(matrix[0]):\n",
    "        print(\"The matrix provided is not square.\")\n",
    "    else:\n",
    "        powered_matrix = power_of_matrix(matrix, power)\n",
    "        print(f\"Matrix raised to the power of {power}:\")\n",
    "        print(powered_matrix)"
   ]
  },
  {
   "cell_type": "code",
   "execution_count": 1,
   "id": "29812419-3358-496f-827c-8e18a6b36fc6",
   "metadata": {},
   "outputs": [
    {
     "name": "stdout",
     "output_type": "stream",
     "text": [
      "Select an option:\n",
      "1. Find the most frequent character in a text\n",
      "2. Compute the power of a square matrix\n"
     ]
    },
    {
     "name": "stdin",
     "output_type": "stream",
     "text": [
      "Enter your selection (1 or 2):  1\n",
      "Enter a text to determine the most frequent character:  amrita\n"
     ]
    },
    {
     "name": "stdout",
     "output_type": "stream",
     "text": [
      "The most frequent character is 'a' with a frequency of 2.\n"
     ]
    }
   ],
   "source": [
    "import numpy as np\n",
    "from collections import Counter\n",
    "def most_frequent_character(text):\n",
    "    cleaned_text = ''.join(char.lower() for char in text if char.isalpha())\n",
    "    character_counts = Counter(cleaned_text)\n",
    "\n",
    "    if not character_counts:\n",
    "        return None, 0\n",
    "\n",
    "    most_common_char, count = character_counts.most_common(1)[0]\n",
    "\n",
    "    return most_common_char, count\n",
    "\n",
    "def raise_matrix_power(matrix, power):\n",
    "    if not isinstance(matrix, np.ndarray):\n",
    "        matrix = np.array(matrix)\n",
    "\n",
    "    if matrix.shape[0] != matrix.shape[1]:\n",
    "        raise ValueError(\"The matrix must be square.\")\n",
    "\n",
    "    return np.linalg.matrix_power(matrix, power)\n",
    "\n",
    "if __name__ == \"__main__\":\n",
    "    print(\"Select an option:\")\n",
    "    print(\"1. Find the most frequent character in a text\")\n",
    "    print(\"2. Compute the power of a square matrix\")\n",
    "    user_choice = input(\"Enter your selection (1 or 2): \").strip()\n",
    "\n",
    "    if user_choice == \"1\":\n",
    "        text_input = input(\"Enter a text to determine the most frequent character: \").strip()\n",
    "        char, freq = most_frequent_character(text_input)\n",
    "        if char:\n",
    "            print(f\"The most frequent character is '{char}' with a frequency of {freq}.\")\n",
    "        else:\n",
    "            print(\"No alphabetic characters found in the provided text.\")\n",
    "\n",
    "    elif user_choice == \"2\":\n",
    "        matrix_str = input(\"Enter a square matrix (values separated by commas, rows by semicolons): \").strip()\n",
    "\n",
    "        power = int(input(\"Specify the exponent for the matrix: \").strip())\n",
    "\n",
    "        try:\n",
    "            matrix_rows = matrix_str.split(';')\n",
    "            matrix = [list(map(int, row.split(','))) for row in matrix_rows]\n",
    "\n",
    "            if len(matrix) != len(matrix[0]):\n",
    "                print(\"The provided matrix is not square.\")\n",
    "            else:\n",
    "                powered_matrix = raise_matrix_power(matrix, power)\n",
    "                print(f\"The matrix raised to the power of {power} is:\")\n",
    "                print(powered_matrix)\n",
    "\n",
    "        except ValueError:\n",
    "            print(\"Invalid input. Please enter a valid square matrix and exponent.\")\n",
    "\n",
    "    else:\n",
    "        print(\"Invalid option selected. Please choose either 1 or 2.\")\n"
   ]
  }
 ],
 "metadata": {
  "kernelspec": {
   "display_name": "Python 3 (ipykernel)",
   "language": "python",
   "name": "python3"
  },
  "language_info": {
   "codemirror_mode": {
    "name": "ipython",
    "version": 3
   },
   "file_extension": ".py",
   "mimetype": "text/x-python",
   "name": "python",
   "nbconvert_exporter": "python",
   "pygments_lexer": "ipython3",
   "version": "3.12.4"
  }
 },
 "nbformat": 4,
 "nbformat_minor": 5
}
